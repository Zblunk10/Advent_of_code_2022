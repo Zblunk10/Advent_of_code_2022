{
 "cells": [
  {
   "cell_type": "markdown",
   "metadata": {},
   "source": [
    "## Day 4\n",
    "### Part 1"
   ]
  },
  {
   "cell_type": "code",
   "execution_count": 2,
   "metadata": {},
   "outputs": [],
   "source": [
    "with open(\"input.txt\", \"r\") as f:\n",
    "  file_content = f.read().splitlines()\n"
   ]
  },
  {
   "cell_type": "code",
   "execution_count": 3,
   "metadata": {},
   "outputs": [],
   "source": [
    "elves_pairs = [x.split(',') for x in file_content]"
   ]
  },
  {
   "cell_type": "code",
   "execution_count": 4,
   "metadata": {},
   "outputs": [],
   "source": [
    "instructions = []\n",
    "for pair in elves_pairs:\n",
    "  instructions.append([int(y) for x in pair for y in x.split(\"-\")])\n"
   ]
  },
  {
   "cell_type": "code",
   "execution_count": 5,
   "metadata": {},
   "outputs": [],
   "source": [
    "def find_if_fully_contained(shorter_instruction, longer_instruction):\n",
    "\n",
    "  if shorter_instruction[0]>=longer_instruction[0] and shorter_instruction[1]<=longer_instruction[1]:\n",
    "    #print (shorter_instruction, longer_instruction)\n",
    "    return True\n",
    "  else:\n",
    "    return False"
   ]
  },
  {
   "cell_type": "code",
   "execution_count": 6,
   "metadata": {},
   "outputs": [
    {
     "name": "stdout",
     "output_type": "stream",
     "text": [
      "441\n"
     ]
    }
   ],
   "source": [
    "counter = 0\n",
    "for i in instructions:\n",
    "  len_1 = i[1]-i[0] + 1\n",
    "  len_2 = i[3]-i[2] + 1\n",
    "  if len_1>len_2:\n",
    "    counter += find_if_fully_contained([i[2],i[3]], [i[0],i[1]])\n",
    "  elif len_1<len_2:\n",
    "    counter += find_if_fully_contained([i[0],i[1]], [i[2],i[3]])\n",
    "  elif len_1==len_2:\n",
    "    counter += find_if_fully_contained([i[0],i[1]], [i[2],i[3]])\n",
    "print(counter)"
   ]
  },
  {
   "cell_type": "markdown",
   "metadata": {},
   "source": [
    "### Part 2"
   ]
  },
  {
   "cell_type": "code",
   "execution_count": 7,
   "metadata": {},
   "outputs": [
    {
     "name": "stdout",
     "output_type": "stream",
     "text": [
      "861\n"
     ]
    }
   ],
   "source": [
    "#long version\n",
    "counter2 = 0\n",
    "for i in instructions:\n",
    "  if i[0]>i[2]:\n",
    "    if i[0]<=i[3]:\n",
    "      if i[1]>=i[2]:\n",
    "        counter2 +=1\n",
    "  elif i[0]<i[2]:\n",
    "    if i[1]>=i[2]:\n",
    "      counter2 +=1\n",
    "  elif i[0]==i[2]:\n",
    "    counter2+=1\n",
    "\n",
    "print(counter2)"
   ]
  },
  {
   "cell_type": "code",
   "execution_count": 8,
   "metadata": {},
   "outputs": [
    {
     "name": "stdout",
     "output_type": "stream",
     "text": [
      "861\n"
     ]
    }
   ],
   "source": [
    "# streamlined version\n",
    "counter2 = 0\n",
    "for i in instructions:\n",
    "  if  i[0]<=i[3] and i[1]>=i[2]:\n",
    "        counter2 +=1\n",
    "\n",
    "print(counter2)"
   ]
  }
 ],
 "metadata": {
  "kernelspec": {
   "display_name": "Python 3.10.8 64-bit",
   "language": "python",
   "name": "python3"
  },
  "language_info": {
   "codemirror_mode": {
    "name": "ipython",
    "version": 3
   },
   "file_extension": ".py",
   "mimetype": "text/x-python",
   "name": "python",
   "nbconvert_exporter": "python",
   "pygments_lexer": "ipython3",
   "version": "3.10.8"
  },
  "orig_nbformat": 4,
  "vscode": {
   "interpreter": {
    "hash": "497308d7094f9d5e431c5220417c93e5aa11fe56289c7522ea564319ffbbc76c"
   }
  }
 },
 "nbformat": 4,
 "nbformat_minor": 2
}
