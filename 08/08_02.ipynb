{
 "cells": [
  {
   "cell_type": "markdown",
   "metadata": {},
   "source": [
    "## Day 08\n",
    "### Part 1"
   ]
  },
  {
   "cell_type": "code",
   "execution_count": 1,
   "metadata": {},
   "outputs": [],
   "source": [
    "with open(\"input.txt\", \"r\") as f:\n",
    "  file_content = f.read().splitlines()"
   ]
  },
  {
   "cell_type": "code",
   "execution_count": 2,
   "metadata": {},
   "outputs": [],
   "source": [
    "with open(\"sample.txt\", \"r\") as f:\n",
    "  file_content = f.read().splitlines()"
   ]
  },
  {
   "cell_type": "code",
   "execution_count": 3,
   "metadata": {},
   "outputs": [],
   "source": [
    "# checks down function\n",
    "def check_down(dataset, current_row, current_column,checking_value):\n",
    "\n",
    "  rows_to_check = len(dataset)-current_row\n",
    "  indexing_row = current_row\n",
    "  for i in range(rows_to_check-1):\n",
    "    previous = int(file_content[indexing_row+1][current_column])\n",
    "    if checking_value <=previous:\n",
    "      break\n",
    "    else:\n",
    "      indexing_row +=1\n",
    "  else:\n",
    "    return True"
   ]
  },
  {
   "cell_type": "code",
   "execution_count": 4,
   "metadata": {},
   "outputs": [],
   "source": [
    "# checks up function\n",
    "def check_up(dataset, current_row, current_column, checking_value):\n",
    "  rows_to_check = current_row\n",
    "  indexing_row = current_row\n",
    "  #print(current_row,rows_to_check)\n",
    "  for i in range(rows_to_check):\n",
    "    previous = int(file_content[indexing_row-1][current_column])\n",
    "    #print(current, previous)\n",
    "    if checking_value <=previous:\n",
    "      break\n",
    "    else:\n",
    "      indexing_row -=1\n",
    "  else:\n",
    "\n",
    "    return True"
   ]
  },
  {
   "cell_type": "code",
   "execution_count": 5,
   "metadata": {},
   "outputs": [],
   "source": [
    "#checks left to right\n",
    "def check_left_to_right(dataset, current_row, current_column, checking_value):\n",
    "  columns_to_check = len(dataset[0])-current_column\n",
    "\n",
    "  indexing_column = current_column\n",
    "\n",
    "  for i in range(columns_to_check-1):\n",
    "    previous = int(file_content[current_row][indexing_column+1])\n",
    "    if checking_value <=previous:\n",
    "      break\n",
    "    else:\n",
    "      indexing_column +=1\n",
    "  else:\n",
    "\n",
    "    return True\n"
   ]
  },
  {
   "cell_type": "code",
   "execution_count": 6,
   "metadata": {},
   "outputs": [],
   "source": [
    "#checks right to left\n",
    "def check_right_to_left(dataset, current_row, current_column,checking_value):\n",
    "  columns_to_check = current_column\n",
    "  indexing_column = current_column\n",
    "  for i in range(columns_to_check):\n",
    "    previous = int(file_content[current_row][indexing_column-1])\n",
    "    if checking_value <=previous:\n",
    "      break\n",
    "    else:\n",
    "      indexing_column -=1\n",
    "  else:\n",
    "    return True\n"
   ]
  },
  {
   "cell_type": "code",
   "execution_count": 7,
   "metadata": {},
   "outputs": [
    {
     "name": "stdout",
     "output_type": "stream",
     "text": [
      "397\n"
     ]
    }
   ],
   "source": [
    "visible = 392\n",
    "for row in range(1,len(file_content)-1):\n",
    "  for column in range(1,len(file_content)-1):\n",
    "    value = int(file_content[row][column])\n",
    "    if check_down(file_content, row, column, value):\n",
    "      visible+=1\n",
    "    elif check_up(file_content, row, column, value):\n",
    "      visible+=1\n",
    "    elif check_left_to_right(file_content, row, column, value):\n",
    "      visible+=1\n",
    "    elif check_right_to_left(file_content, row, column, value):\n",
    "      visible+=1\n",
    "    else:\n",
    "      pass\n",
    "      #print(\"not visible\")\n",
    "print(visible)\n",
    "# 1789"
   ]
  },
  {
   "attachments": {},
   "cell_type": "markdown",
   "metadata": {},
   "source": [
    "#### v2"
   ]
  },
  {
   "cell_type": "code",
   "execution_count": 13,
   "metadata": {},
   "outputs": [],
   "source": [
    "import itertools"
   ]
  },
  {
   "cell_type": "code",
   "execution_count": null,
   "metadata": {},
   "outputs": [],
   "source": [
    "def smaller_trees_check(checked_tree_height, check_tree_row,checked_tree_column):\n",
    "  \n",
    "  pass"
   ]
  },
  {
   "cell_type": "code",
   "execution_count": null,
   "metadata": {},
   "outputs": [],
   "source": [
    "for row in range(0,len(file_content)):\n",
    "  for column in range(0,len(file_content)):\n",
    "    considered_tree_height = file_content[row][column]\n",
    "    print (considered_tree_height)\n",
    "    \n"
   ]
  },
  {
   "attachments": {},
   "cell_type": "markdown",
   "metadata": {},
   "source": [
    "### Part 02"
   ]
  },
  {
   "cell_type": "code",
   "execution_count": 8,
   "metadata": {},
   "outputs": [],
   "source": [
    "def testfun(x):\n",
    "  print(x)\n",
    "  return x"
   ]
  },
  {
   "cell_type": "code",
   "execution_count": 11,
   "metadata": {},
   "outputs": [
    {
     "name": "stdout",
     "output_type": "stream",
     "text": [
      "3\n",
      "0\n",
      "3\n",
      "7\n",
      "3\n",
      "2\n",
      "5\n",
      "5\n",
      "1\n",
      "2\n",
      "6\n",
      "5\n",
      "3\n",
      "3\n",
      "2\n",
      "3\n",
      "3\n",
      "5\n",
      "4\n",
      "9\n",
      "3\n",
      "5\n",
      "3\n",
      "9\n",
      "0\n"
     ]
    }
   ],
   "source": [
    "for row in range(0,len(file_content)):\n",
    "  for column in range(0,len(file_content)):\n",
    "    considered_tree_height = file_content[row][column]\n",
    "    print (considered_tree_height)\n"
   ]
  },
  {
   "cell_type": "code",
   "execution_count": 10,
   "metadata": {},
   "outputs": [
    {
     "name": "stdout",
     "output_type": "stream",
     "text": [
      "30373\n",
      "25512\n",
      "65332\n",
      "33549\n",
      "35390\n"
     ]
    }
   ],
   "source": [
    "for i in file_content:\n",
    "  print(i)"
   ]
  }
 ],
 "metadata": {
  "kernelspec": {
   "display_name": "Python 3.10.8 64-bit",
   "language": "python",
   "name": "python3"
  },
  "language_info": {
   "codemirror_mode": {
    "name": "ipython",
    "version": 3
   },
   "file_extension": ".py",
   "mimetype": "text/x-python",
   "name": "python",
   "nbconvert_exporter": "python",
   "pygments_lexer": "ipython3",
   "version": "3.10.8 (tags/v3.10.8:aaaf517, Oct 11 2022, 16:50:30) [MSC v.1933 64 bit (AMD64)]"
  },
  "orig_nbformat": 4,
  "vscode": {
   "interpreter": {
    "hash": "497308d7094f9d5e431c5220417c93e5aa11fe56289c7522ea564319ffbbc76c"
   }
  }
 },
 "nbformat": 4,
 "nbformat_minor": 2
}
