{
 "cells": [
  {
   "cell_type": "markdown",
   "metadata": {},
   "source": [
    "## Day 08\n",
    "### Part 1"
   ]
  },
  {
   "cell_type": "code",
   "execution_count": 80,
   "metadata": {},
   "outputs": [],
   "source": [
    "with open(\"input.txt\", \"r\") as f:\n",
    "  file_content = f.read().splitlines()"
   ]
  },
  {
   "cell_type": "code",
   "execution_count": 81,
   "metadata": {},
   "outputs": [],
   "source": [
    "with open(\"sample.txt\", \"r\") as f:\n",
    "  file_content = f.read().splitlines()"
   ]
  },
  {
   "cell_type": "code",
   "execution_count": 82,
   "metadata": {},
   "outputs": [
    {
     "data": {
      "text/plain": [
       "['30373', '25512', '65332', '33549', '35390']"
      ]
     },
     "execution_count": 82,
     "metadata": {},
     "output_type": "execute_result"
    }
   ],
   "source": [
    "file_content"
   ]
  },
  {
   "cell_type": "code",
   "execution_count": 83,
   "metadata": {},
   "outputs": [],
   "source": [
    "# row, column\n",
    "file_content[0][1]\n",
    "visibles = []"
   ]
  },
  {
   "cell_type": "code",
   "execution_count": 84,
   "metadata": {},
   "outputs": [],
   "source": [
    "# checks down loop\n",
    "\n",
    "visible = 0\n",
    "row=0\n",
    "column = 0\n",
    "line_length = len(file_content[0])\n",
    "column_length = len(file_content)\n",
    "for i in range(line_length-1):\n",
    "  column +=1\n",
    "  row= 0\n",
    "  for a in range(column_length):\n",
    "    previous = int(file_content[row][column])\n",
    "    current = int(file_content[row+1][column])\n",
    "#    print(\"previous:\", previous, \"current:\",current)\n",
    "    if current <=previous:\n",
    "      break\n",
    "    else:\n",
    "      visible +=1\n",
    "      row+=1\n",
    "visibles.append(visible)"
   ]
  },
  {
   "cell_type": "code",
   "execution_count": 85,
   "metadata": {},
   "outputs": [
    {
     "name": "stdout",
     "output_type": "stream",
     "text": [
      "break\n",
      "break\n",
      "break\n"
     ]
    }
   ],
   "source": [
    "# checks up loop\n",
    "\n",
    "visible = 0\n",
    "row=0\n",
    "column = 0\n",
    "line_length = len(file_content[0])\n",
    "column_length = len(file_content)\n",
    "for i in range(line_length-2):\n",
    "  column +=1\n",
    "  row= column_length\n",
    "  for a in range(column_length):\n",
    "    previous = int(file_content[row-1][column])\n",
    "    current = int(file_content[row-2][column])\n",
    "#    print(row, column)\n",
    "#    print(\"previous:\", previous, \"current:\",current)\n",
    "    if current <=previous:\n",
    "      print(\"break\")\n",
    "      break\n",
    "    else:\n",
    "      visible +=1\n",
    "      row-=1\n",
    "visibles.append(visible)"
   ]
  },
  {
   "cell_type": "code",
   "execution_count": 86,
   "metadata": {},
   "outputs": [],
   "source": [
    "# checks left to right\n",
    "\n",
    "visible = 0\n",
    "row=0\n",
    "column = 0\n",
    "line_length = len(file_content[0])\n",
    "column_length = len(file_content)\n",
    "for i in range(column_length-1):\n",
    "  column = 0\n",
    "  row +=1\n",
    "  for a in range(line_length):\n",
    "    previous = int(file_content[row][column])\n",
    "    current = int(file_content[row][column+1])\n",
    "#    print(\"previous:\", previous, \"current:\",current)\n",
    "    if current <=previous:\n",
    "#      print(\"break\")\n",
    "      break\n",
    "    else:\n",
    "      visible +=1\n",
    "      column +=1\n",
    "visibles.append(visible)"
   ]
  },
  {
   "cell_type": "code",
   "execution_count": 87,
   "metadata": {},
   "outputs": [
    {
     "name": "stdout",
     "output_type": "stream",
     "text": [
      "break\n",
      "break\n",
      "break\n",
      "break\n"
     ]
    }
   ],
   "source": [
    "# right to left\n",
    "visible = 0\n",
    "row=0\n",
    "column = 0\n",
    "line_length = len(file_content[0])\n",
    "column_length = len(file_content)\n",
    "for i in range(column_length-1):\n",
    "  column = line_length\n",
    "  row +=1\n",
    "  for a in range(line_length):\n",
    "    previous = int(file_content[row][column-1])\n",
    "    current = int(file_content[row][column-2])\n",
    "#    print(row, column)\n",
    "#    print(\"previous:\", previous, \"current:\",current)\n",
    "    if current <=previous:\n",
    "      print(\"break\")\n",
    "      break\n",
    "    else:\n",
    "      visible +=1\n",
    "      column-=1\n",
    "visibles.append(visible)"
   ]
  },
  {
   "cell_type": "code",
   "execution_count": 95,
   "metadata": {},
   "outputs": [
    {
     "name": "stdout",
     "output_type": "stream",
     "text": [
      "7\n",
      "16\n"
     ]
    }
   ],
   "source": [
    "print(sum(visibles))\n",
    "print((len(file_content)-2)*2+len((file_content[1])*2))\n"
   ]
  }
 ],
 "metadata": {
  "kernelspec": {
   "display_name": "Python 3.10.8 64-bit",
   "language": "python",
   "name": "python3"
  },
  "language_info": {
   "codemirror_mode": {
    "name": "ipython",
    "version": 3
   },
   "file_extension": ".py",
   "mimetype": "text/x-python",
   "name": "python",
   "nbconvert_exporter": "python",
   "pygments_lexer": "ipython3",
   "version": "3.10.8"
  },
  "orig_nbformat": 4,
  "vscode": {
   "interpreter": {
    "hash": "497308d7094f9d5e431c5220417c93e5aa11fe56289c7522ea564319ffbbc76c"
   }
  }
 },
 "nbformat": 4,
 "nbformat_minor": 2
}
