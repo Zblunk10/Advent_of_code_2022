{
 "cells": [
  {
   "cell_type": "markdown",
   "metadata": {},
   "source": [
    "## Day 5\n",
    "### Part 1"
   ]
  },
  {
   "cell_type": "code",
   "execution_count": 19,
   "metadata": {},
   "outputs": [],
   "source": [
    "import re, copy\n",
    "import pandas as pd"
   ]
  },
  {
   "cell_type": "code",
   "execution_count": 20,
   "metadata": {},
   "outputs": [],
   "source": [
    "with open(\"input.txt\", \"r\") as f:\n",
    "  file_content = f.read()\n",
    "parts =   file_content.split(\"\\n\\n\")"
   ]
  },
  {
   "cell_type": "code",
   "execution_count": 21,
   "metadata": {},
   "outputs": [],
   "source": [
    "start = parts[0].splitlines()\n",
    "instructions = parts[1].splitlines()\n"
   ]
  },
  {
   "cell_type": "code",
   "execution_count": 22,
   "metadata": {},
   "outputs": [],
   "source": [
    "processed_start  = [x.replace(\"    \",\"[ ] \") for x in start[0:8]]\n",
    "processed_start = [re.findall(r'\\[(.)\\]', i) for i in processed_start]\n",
    "start_df = pd.DataFrame(processed_start, columns=range(1,10))\n",
    "\n",
    "start_dict={}\n",
    "for i in range(1,10):\n",
    "  num_list = start_df[i].tolist()\n",
    "  num_list.reverse()\n",
    "  num_list = list(filter(lambda x: x !=\" \", num_list))\n",
    "  start_dict[i] = num_list\n"
   ]
  },
  {
   "cell_type": "code",
   "execution_count": 23,
   "metadata": {},
   "outputs": [],
   "source": [
    "instructions_processed = [re.findall(r'(\\d+)',i) for i in instructions]\n"
   ]
  },
  {
   "cell_type": "code",
   "execution_count": 25,
   "metadata": {},
   "outputs": [],
   "source": [
    "working_dict = copy.deepcopy(start_dict)\n",
    "for i in instructions_processed:\n",
    "  i = [int(x) for x in i ]\n",
    "  num_of_moves = i[0]\n",
    "  start_position = i[1]\n",
    "  end_position=i[2]\n",
    "  for repetition in range(num_of_moves):\n",
    "    popped = working_dict[start_position].pop()\n",
    "    working_dict[end_position].append(popped)"
   ]
  },
  {
   "cell_type": "code",
   "execution_count": 26,
   "metadata": {},
   "outputs": [
    {
     "name": "stdout",
     "output_type": "stream",
     "text": [
      "BSDMQFLSP\n"
     ]
    }
   ],
   "source": [
    "result = []\n",
    "for key, val in working_dict.items():\n",
    "  result.append(val[-1].strip())\n",
    "print(\"\".join(result))"
   ]
  },
  {
   "cell_type": "markdown",
   "metadata": {},
   "source": [
    "## Part 2"
   ]
  },
  {
   "cell_type": "code",
   "execution_count": 27,
   "metadata": {},
   "outputs": [],
   "source": [
    "working_dict = copy.deepcopy(start_dict)\n",
    "for i in instructions_processed:\n",
    "  i = [int(x) for x in i ]\n",
    "  num_of_boxes = i[0]\n",
    "  start_position = i[1]\n",
    "  end_position=i[2]\n",
    "  boxes_to_move = working_dict[start_position][-1*num_of_boxes:]\n",
    "  working_dict[end_position].extend(boxes_to_move)\n",
    "  del working_dict[start_position][-1*num_of_boxes:]\n",
    "\n"
   ]
  },
  {
   "cell_type": "code",
   "execution_count": 28,
   "metadata": {},
   "outputs": [
    {
     "name": "stdout",
     "output_type": "stream",
     "text": [
      "PGSQBFLDP\n"
     ]
    }
   ],
   "source": [
    "result = []\n",
    "for key, val in working_dict.items():\n",
    "  result.append(val[-1].strip())\n",
    "print(\"\".join(result))\n"
   ]
  }
 ],
 "metadata": {
  "kernelspec": {
   "display_name": "Python 3.10.8 64-bit",
   "language": "python",
   "name": "python3"
  },
  "language_info": {
   "codemirror_mode": {
    "name": "ipython",
    "version": 3
   },
   "file_extension": ".py",
   "mimetype": "text/x-python",
   "name": "python",
   "nbconvert_exporter": "python",
   "pygments_lexer": "ipython3",
   "version": "3.10.8"
  },
  "orig_nbformat": 4,
  "vscode": {
   "interpreter": {
    "hash": "497308d7094f9d5e431c5220417c93e5aa11fe56289c7522ea564319ffbbc76c"
   }
  }
 },
 "nbformat": 4,
 "nbformat_minor": 2
}
