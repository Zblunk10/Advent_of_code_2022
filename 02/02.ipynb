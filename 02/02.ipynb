{
 "cells": [
  {
   "cell_type": "markdown",
   "metadata": {},
   "source": [
    "## Day 2\n",
    "### Part 1"
   ]
  },
  {
   "cell_type": "code",
   "execution_count": 24,
   "metadata": {},
   "outputs": [],
   "source": [
    "with open(\"input.txt\", \"r\") as f:\n",
    "  file_content = f.read().splitlines()"
   ]
  },
  {
   "cell_type": "code",
   "execution_count": 42,
   "metadata": {},
   "outputs": [],
   "source": [
    "\n",
    "# help\n",
    "example = ['A Y','B X','C Z']\n",
    "# x= 1\n",
    "# y = 2\n",
    "# z = 3\n",
    "# win = 6\n",
    "# draw = 3\n",
    "# lost = 0\n"
   ]
  },
  {
   "cell_type": "code",
   "execution_count": 44,
   "metadata": {},
   "outputs": [
    {
     "data": {
      "text/plain": [
       "['A X', 'A Y', 'A Z', 'B X', 'B Y', 'B Z', 'C X', 'C Y', 'C Z']"
      ]
     },
     "execution_count": 44,
     "metadata": {},
     "output_type": "execute_result"
    }
   ],
   "source": [
    "# get game scenarios\n",
    "scenarios = list(set(file_content))\n",
    "scenarios.sort()\n",
    "scenarios"
   ]
  },
  {
   "cell_type": "code",
   "execution_count": 54,
   "metadata": {},
   "outputs": [],
   "source": [
    "scenarios_results =  {'A X': 3,\n",
    "                      'A Y': 6,\n",
    "                      'A Z': 0,\n",
    "                      'B X': 0,\n",
    "                      'B Y': 3,\n",
    "                      'B Z': 6,\n",
    "                      'C X': 6,\n",
    "                      'C Y': 0,\n",
    "                      'C Z': 3}\n",
    "response_points = {\"X\":1, \"Y\":2, \"Z\":3}"
   ]
  },
  {
   "cell_type": "code",
   "execution_count": 56,
   "metadata": {},
   "outputs": [
    {
     "name": "stdout",
     "output_type": "stream",
     "text": [
      "12794\n"
     ]
    }
   ],
   "source": [
    "points = []\n",
    "for game in file_content:\n",
    "  points.append(scenarios_results[game])\n",
    "  points.append(response_points[game[2]])\n",
    "print(sum(points))"
   ]
  },
  {
   "cell_type": "markdown",
   "metadata": {},
   "source": [
    "### Part 2"
   ]
  },
  {
   "cell_type": "code",
   "execution_count": 67,
   "metadata": {},
   "outputs": [],
   "source": [
    "#help\n",
    "# X = lose\n",
    "# Y = draw\n",
    "# Z = win \n",
    "new_response_points = {\"A\":1, \"B\":2, \"C\":3}\n",
    "result_points = {\"X\":0, \"Y\":3, \"Z\":6}"
   ]
  },
  {
   "cell_type": "code",
   "execution_count": 63,
   "metadata": {},
   "outputs": [],
   "source": [
    "scenarios_instructions =  {'A X': \"C\",\n",
    "                          'A Y': \"A\",\n",
    "                          'A Z': \"B\",\n",
    "                          'B X': \"A\",\n",
    "                          'B Y': \"B\",\n",
    "                          'B Z': \"C\",\n",
    "                          'C X': \"B\",\n",
    "                          'C Y': \"C\",\n",
    "                          'C Z': \"A\"}"
   ]
  },
  {
   "cell_type": "code",
   "execution_count": 69,
   "metadata": {},
   "outputs": [
    {
     "name": "stdout",
     "output_type": "stream",
     "text": [
      "14979\n"
     ]
    }
   ],
   "source": [
    "points = []\n",
    "for game in file_content:\n",
    "  points.append(new_response_points[scenarios_instructions[game]])\n",
    "  points.append(result_points[game[2]])\n",
    "print(sum(points))"
   ]
  }
 ],
 "metadata": {
  "kernelspec": {
   "display_name": "Python 3.10.8 64-bit",
   "language": "python",
   "name": "python3"
  },
  "language_info": {
   "codemirror_mode": {
    "name": "ipython",
    "version": 3
   },
   "file_extension": ".py",
   "mimetype": "text/x-python",
   "name": "python",
   "nbconvert_exporter": "python",
   "pygments_lexer": "ipython3",
   "version": "3.10.8"
  },
  "orig_nbformat": 4,
  "vscode": {
   "interpreter": {
    "hash": "497308d7094f9d5e431c5220417c93e5aa11fe56289c7522ea564319ffbbc76c"
   }
  }
 },
 "nbformat": 4,
 "nbformat_minor": 2
}
