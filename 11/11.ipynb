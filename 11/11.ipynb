{
 "cells": [
  {
   "attachments": {},
   "cell_type": "markdown",
   "metadata": {},
   "source": [
    "## Day 11\n",
    "### Part 1"
   ]
  },
  {
   "cell_type": "code",
   "execution_count": 75,
   "metadata": {},
   "outputs": [],
   "source": [
    "import re\n",
    "import operator\n",
    "import math, copy"
   ]
  },
  {
   "cell_type": "code",
   "execution_count": 76,
   "metadata": {},
   "outputs": [],
   "source": [
    "with open(\"input.txt\", \"r\") as f:\n",
    "  file_content = f.read().split(\"\\n\\n\")"
   ]
  },
  {
   "cell_type": "code",
   "execution_count": 77,
   "metadata": {},
   "outputs": [],
   "source": [
    "# with open(\"sample.txt\", \"r\") as f:\n",
    "#   file_content = f.read().split(\"\\n\\n\")"
   ]
  },
  {
   "cell_type": "code",
   "execution_count": 78,
   "metadata": {},
   "outputs": [],
   "source": [
    "ops = {\n",
    "    '+' : operator.add,\n",
    "    '-' : operator.sub,\n",
    "    '*' : operator.mul,\n",
    "    '/' : operator.truediv,\n",
    "    '%' : operator.mod,\n",
    "    '**' : operator.pow\n",
    "}"
   ]
  },
  {
   "cell_type": "code",
   "execution_count": 79,
   "metadata": {},
   "outputs": [
    {
     "name": "stdout",
     "output_type": "stream",
     "text": [
      "8\n"
     ]
    }
   ],
   "source": [
    "print(len(file_content))"
   ]
  },
  {
   "cell_type": "code",
   "execution_count": 80,
   "metadata": {},
   "outputs": [],
   "source": [
    "monkey_dict = {}\n",
    "for monkey in file_content:\n",
    "  monkey = monkey.splitlines()\n",
    "  monkey = [x.strip() for x in monkey]\n",
    "  name = int(re.search(r'(\\d)',monkey[0])[0])\n",
    "  starting_items = re.findall(r'(\\d+)',monkey[1])\n",
    "  operator=monkey[2][21]\n",
    "  try:\n",
    "    operating_value= int(re.search(r'(\\d+)',monkey[2])[0])\n",
    "  except:\n",
    "    operator = \"**\"\n",
    "    operating_value = 2\n",
    "  test = re.search(r'(\\d+)',monkey[3])[0]\n",
    "  if_true = int(monkey[4][-1])\n",
    "  if_false = int(monkey[5][-1])\n",
    "  monkey_dict[name] = {\"starting_items\":starting_items,\"operator\":operator,\"operating_value\":operating_value, \"test\":test, \"if_true\":if_true,\"if_false\":if_false, \"inspected_items\":0  }\n",
    "#  print(name,starting_items,operator,operating_value,test,if_true,if_false)"
   ]
  },
  {
   "cell_type": "code",
   "execution_count": 81,
   "metadata": {},
   "outputs": [],
   "source": [
    "monkey_dict\n",
    "monkey_dict2 = copy.deepcopy(monkey_dict)"
   ]
  },
  {
   "cell_type": "code",
   "execution_count": 82,
   "metadata": {},
   "outputs": [
    {
     "data": {
      "text/plain": [
       "['96', '82', '61', '99', '82', '84', '85']"
      ]
     },
     "execution_count": 82,
     "metadata": {},
     "output_type": "execute_result"
    }
   ],
   "source": [
    "monkey_dict[1][\"starting_items\"]"
   ]
  },
  {
   "cell_type": "code",
   "execution_count": 83,
   "metadata": {},
   "outputs": [],
   "source": [
    "# for key in monkey_dict.copy():\n",
    "\n",
    "\n",
    "#   for item in monkey_dict[key][\"starting_items\"]:\n",
    "#     new = ops[monkey_dict[key][\"operator\"]](int(item),int(monkey_dict[key][\"operating_value\"]))    \n",
    "#     if new % int(monkey_dict[key][\"test\"]) == 0:\n",
    "#       monkey_dict[if_true][\"starting_items\"].append(item)\n",
    "#     else:\n",
    "#       monkey_dict[if_false][\"starting_items\"].append(item)\n",
    "#   monkey_dict[key][\"starting_items\"] = []\n",
    "#   print(monkey_dict)\n"
   ]
  },
  {
   "cell_type": "code",
   "execution_count": 84,
   "metadata": {},
   "outputs": [],
   "source": [
    "for i in range(20):\n",
    "  num_of_monkeys = len(file_content)\n",
    "  for key in range(num_of_monkeys):\n",
    "    monkey_dict_copy=monkey_dict.copy()\n",
    "    num_of_items = len(monkey_dict_copy[key][\"starting_items\"])\n",
    "    monkey_dict[key][\"inspected_items\"] += num_of_items\n",
    "    for item in monkey_dict_copy[key][\"starting_items\"]:\n",
    "      new = ops[monkey_dict_copy[key][\"operator\"]](int(item),int(monkey_dict_copy[key][\"operating_value\"]))  \n",
    "      test = int(monkey_dict_copy[key][\"test\"])  \n",
    "      if_true = monkey_dict[key][\"if_true\"]\n",
    "      if_false = monkey_dict[key][\"if_false\"]\n",
    "      new = math.floor(new/3)\n",
    "      if new %  test == 0:\n",
    "        if_true,monkey_dict[if_true][\"starting_items\"].append(new)\n",
    "      else:\n",
    "        if_false,monkey_dict[if_false][\"starting_items\"].append(new)\n",
    "        \n",
    "    monkey_dict[key][\"starting_items\"] = []\n",
    "\n"
   ]
  },
  {
   "cell_type": "code",
   "execution_count": 85,
   "metadata": {},
   "outputs": [
    {
     "data": {
      "text/plain": [
       "95472"
      ]
     },
     "execution_count": 85,
     "metadata": {},
     "output_type": "execute_result"
    }
   ],
   "source": [
    "inspected = []\n",
    "for key, val in monkey_dict.items():\n",
    "  inspected.append(val[\"inspected_items\"])\n",
    "inspected.sort()\n",
    "inspected[-1]*inspected[-2]\n"
   ]
  },
  {
   "attachments": {},
   "cell_type": "markdown",
   "metadata": {},
   "source": [
    "### Part 2"
   ]
  },
  {
   "cell_type": "code",
   "execution_count": 86,
   "metadata": {},
   "outputs": [
    {
     "name": "stdout",
     "output_type": "stream",
     "text": [
      "[50, 52, 53, 57, 59, 60, 61, 62, 63, 65, 66, 67, 69, 75, 76, 77, 79, 82, 84, 85, 86, 87, 88, 90, 92, 94, 95, 96, 99]\n"
     ]
    }
   ],
   "source": [
    "start_items = []\n",
    "for key, val in monkey_dict2.items():\n",
    "  for item in val[\"starting_items\"]:\n",
    "    start_items.append(item)\n",
    "start_items = sorted(list(set(start_items)))    \n",
    "start_items = [int(x) for x in start_items]\n",
    "print(start_items)"
   ]
  },
  {
   "cell_type": "code",
   "execution_count": 87,
   "metadata": {},
   "outputs": [
    {
     "name": "stdout",
     "output_type": "stream",
     "text": [
      "4026858827256266577823447200\n"
     ]
    }
   ],
   "source": [
    "#find lowest common multiplier for start items -> use in modulo check in the main, to limit the number size\n",
    "lcm = math.lcm(*start_items) \n",
    "print(lcm)"
   ]
  },
  {
   "cell_type": "code",
   "execution_count": 88,
   "metadata": {},
   "outputs": [],
   "source": [
    "for i in range(10000):\n",
    "  num_of_monkeys = len(file_content)\n",
    "  for key in range(num_of_monkeys):\n",
    "    monkey_dict_copy=monkey_dict2.copy()\n",
    "    num_of_items = len(monkey_dict_copy[key][\"starting_items\"])\n",
    "    monkey_dict2[key][\"inspected_items\"] += num_of_items\n",
    "    for item in monkey_dict_copy[key][\"starting_items\"]:\n",
    "      new = ops[monkey_dict_copy[key][\"operator\"]](int(item),int(monkey_dict_copy[key][\"operating_value\"]))  \n",
    "      test = int(monkey_dict_copy[key][\"test\"])  \n",
    "      if_true = monkey_dict2[key][\"if_true\"]\n",
    "      if_false = monkey_dict2[key][\"if_false\"]\n",
    "      new = new % lcm\n",
    "      if new %  test == 0:\n",
    "        if_true,monkey_dict2[if_true][\"starting_items\"].append(new)\n",
    "      else:\n",
    "        if_false,monkey_dict2[if_false][\"starting_items\"].append(new)\n",
    "        \n",
    "    monkey_dict2[key][\"starting_items\"] = []\n"
   ]
  },
  {
   "cell_type": "code",
   "execution_count": 89,
   "metadata": {},
   "outputs": [
    {
     "data": {
      "text/plain": [
       "17926061332"
      ]
     },
     "execution_count": 89,
     "metadata": {},
     "output_type": "execute_result"
    }
   ],
   "source": [
    "inspected = []\n",
    "for key, val in monkey_dict2.items():\n",
    "  inspected.append(val[\"inspected_items\"])\n",
    "inspected.sort()\n",
    "inspected[-1]*inspected[-2]"
   ]
  }
 ],
 "metadata": {
  "kernelspec": {
   "display_name": "Python 3",
   "language": "python",
   "name": "python3"
  },
  "language_info": {
   "codemirror_mode": {
    "name": "ipython",
    "version": 3
   },
   "file_extension": ".py",
   "mimetype": "text/x-python",
   "name": "python",
   "nbconvert_exporter": "python",
   "pygments_lexer": "ipython3",
   "version": "3.10.8"
  },
  "orig_nbformat": 4,
  "vscode": {
   "interpreter": {
    "hash": "497308d7094f9d5e431c5220417c93e5aa11fe56289c7522ea564319ffbbc76c"
   }
  }
 },
 "nbformat": 4,
 "nbformat_minor": 2
}
