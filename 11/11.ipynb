{
 "cells": [
  {
   "attachments": {},
   "cell_type": "markdown",
   "metadata": {},
   "source": [
    "## Day 11\n",
    "### Part 1"
   ]
  },
  {
   "cell_type": "code",
   "execution_count": 193,
   "metadata": {},
   "outputs": [],
   "source": [
    "import re\n",
    "import operator\n",
    "import math"
   ]
  },
  {
   "cell_type": "code",
   "execution_count": 194,
   "metadata": {},
   "outputs": [],
   "source": [
    "with open(\"input.txt\", \"r\") as f:\n",
    "  file_content = f.read().split(\"\\n\\n\")"
   ]
  },
  {
   "cell_type": "code",
   "execution_count": 195,
   "metadata": {},
   "outputs": [],
   "source": [
    "# with open(\"sample.txt\", \"r\") as f:\n",
    "#   file_content = f.read().split(\"\\n\\n\")"
   ]
  },
  {
   "cell_type": "code",
   "execution_count": 196,
   "metadata": {},
   "outputs": [],
   "source": [
    "ops = {\n",
    "    '+' : operator.add,\n",
    "    '-' : operator.sub,\n",
    "    '*' : operator.mul,\n",
    "    '/' : operator.truediv,\n",
    "    '%' : operator.mod,\n",
    "    '**' : operator.pow\n",
    "}"
   ]
  },
  {
   "cell_type": "code",
   "execution_count": 197,
   "metadata": {},
   "outputs": [
    {
     "name": "stdout",
     "output_type": "stream",
     "text": [
      "8\n"
     ]
    }
   ],
   "source": [
    "print(len(file_content))"
   ]
  },
  {
   "cell_type": "code",
   "execution_count": 198,
   "metadata": {},
   "outputs": [],
   "source": [
    "monkey_dict = {}\n",
    "for monkey in file_content:\n",
    "  monkey = monkey.splitlines()\n",
    "  monkey = [x.strip() for x in monkey]\n",
    "  name = int(re.search(r'(\\d)',monkey[0])[0])\n",
    "  starting_items = re.findall(r'(\\d+)',monkey[1])\n",
    "  operator=monkey[2][21]\n",
    "  try:\n",
    "    operating_value= int(re.search(r'(\\d+)',monkey[2])[0])\n",
    "  except:\n",
    "    operator = \"**\"\n",
    "    operating_value = 2\n",
    "  test = re.search(r'(\\d+)',monkey[3])[0]\n",
    "  if_true = int(monkey[4][-1])\n",
    "  if_false = int(monkey[5][-1])\n",
    "  monkey_dict[name] = {\"starting_items\":starting_items,\"operator\":operator,\"operating_value\":operating_value, \"test\":test, \"if_true\":if_true,\"if_false\":if_false, \"inspected_items\":0  }\n",
    "#  print(name,starting_items,operator,operating_value,test,if_true,if_false)"
   ]
  },
  {
   "cell_type": "code",
   "execution_count": 199,
   "metadata": {},
   "outputs": [
    {
     "data": {
      "text/plain": [
       "{0: {'starting_items': ['52', '60', '85', '69', '75', '75'],\n",
       "  'operator': '*',\n",
       "  'operating_value': 17,\n",
       "  'test': '13',\n",
       "  'if_true': 6,\n",
       "  'if_false': 7,\n",
       "  'inspected_items': 0},\n",
       " 1: {'starting_items': ['96', '82', '61', '99', '82', '84', '85'],\n",
       "  'operator': '+',\n",
       "  'operating_value': 8,\n",
       "  'test': '7',\n",
       "  'if_true': 0,\n",
       "  'if_false': 7,\n",
       "  'inspected_items': 0},\n",
       " 2: {'starting_items': ['95', '79'],\n",
       "  'operator': '+',\n",
       "  'operating_value': 6,\n",
       "  'test': '19',\n",
       "  'if_true': 5,\n",
       "  'if_false': 3,\n",
       "  'inspected_items': 0},\n",
       " 3: {'starting_items': ['88', '50', '82', '65', '77'],\n",
       "  'operator': '*',\n",
       "  'operating_value': 19,\n",
       "  'test': '2',\n",
       "  'if_true': 4,\n",
       "  'if_false': 1,\n",
       "  'inspected_items': 0},\n",
       " 4: {'starting_items': ['66', '90', '59', '90', '87', '63', '53', '88'],\n",
       "  'operator': '+',\n",
       "  'operating_value': 7,\n",
       "  'test': '5',\n",
       "  'if_true': 1,\n",
       "  'if_false': 0,\n",
       "  'inspected_items': 0},\n",
       " 5: {'starting_items': ['92', '75', '62'],\n",
       "  'operator': '**',\n",
       "  'operating_value': 2,\n",
       "  'test': '3',\n",
       "  'if_true': 3,\n",
       "  'if_false': 4,\n",
       "  'inspected_items': 0},\n",
       " 6: {'starting_items': ['94', '86', '76', '67'],\n",
       "  'operator': '+',\n",
       "  'operating_value': 1,\n",
       "  'test': '11',\n",
       "  'if_true': 5,\n",
       "  'if_false': 2,\n",
       "  'inspected_items': 0},\n",
       " 7: {'starting_items': ['57'],\n",
       "  'operator': '+',\n",
       "  'operating_value': 2,\n",
       "  'test': '17',\n",
       "  'if_true': 6,\n",
       "  'if_false': 2,\n",
       "  'inspected_items': 0}}"
      ]
     },
     "execution_count": 199,
     "metadata": {},
     "output_type": "execute_result"
    }
   ],
   "source": [
    "monkey_dict"
   ]
  },
  {
   "cell_type": "code",
   "execution_count": 200,
   "metadata": {},
   "outputs": [
    {
     "data": {
      "text/plain": [
       "['96', '82', '61', '99', '82', '84', '85']"
      ]
     },
     "execution_count": 200,
     "metadata": {},
     "output_type": "execute_result"
    }
   ],
   "source": [
    "monkey_dict[1][\"starting_items\"]"
   ]
  },
  {
   "cell_type": "code",
   "execution_count": 201,
   "metadata": {},
   "outputs": [],
   "source": [
    "# for key in monkey_dict.copy():\n",
    "\n",
    "\n",
    "#   for item in monkey_dict[key][\"starting_items\"]:\n",
    "#     new = ops[monkey_dict[key][\"operator\"]](int(item),int(monkey_dict[key][\"operating_value\"]))    \n",
    "#     if new % int(monkey_dict[key][\"test\"]) == 0:\n",
    "#       monkey_dict[if_true][\"starting_items\"].append(item)\n",
    "#     else:\n",
    "#       monkey_dict[if_false][\"starting_items\"].append(item)\n",
    "#   monkey_dict[key][\"starting_items\"] = []\n",
    "#   print(monkey_dict)\n"
   ]
  },
  {
   "cell_type": "code",
   "execution_count": 202,
   "metadata": {},
   "outputs": [],
   "source": [
    "for i in range(20):\n",
    "  num_of_monkeys = len(file_content)\n",
    "  for key in range(num_of_monkeys):\n",
    "    monkey_dict_copy=monkey_dict.copy()\n",
    "    num_of_items = len(monkey_dict_copy[key][\"starting_items\"])\n",
    "    monkey_dict[key][\"inspected_items\"] += num_of_items\n",
    "    for item in monkey_dict_copy[key][\"starting_items\"]:\n",
    "      new = ops[monkey_dict_copy[key][\"operator\"]](int(item),int(monkey_dict_copy[key][\"operating_value\"]))  \n",
    "      test = int(monkey_dict_copy[key][\"test\"])  \n",
    "      if_true = monkey_dict[key][\"if_true\"]\n",
    "      if_false = monkey_dict[key][\"if_false\"]\n",
    "      new = math.floor(new/3)\n",
    "      if new %  test == 0:\n",
    "        if_true,monkey_dict[if_true][\"starting_items\"].append(new)\n",
    "      else:\n",
    "        if_false,monkey_dict[if_false][\"starting_items\"].append(new)\n",
    "        \n",
    "    monkey_dict[key][\"starting_items\"] = []\n",
    "\n"
   ]
  },
  {
   "cell_type": "code",
   "execution_count": 211,
   "metadata": {},
   "outputs": [
    {
     "data": {
      "text/plain": [
       "95472"
      ]
     },
     "execution_count": 211,
     "metadata": {},
     "output_type": "execute_result"
    }
   ],
   "source": [
    "inspected = []\n",
    "for key, val in monkey_dict.items():\n",
    "  inspected.append(val[\"inspected_items\"])\n",
    "inspected.sort()\n",
    "inspected[-1]*inspected[-2]\n"
   ]
  }
 ],
 "metadata": {
  "kernelspec": {
   "display_name": "Python 3",
   "language": "python",
   "name": "python3"
  },
  "language_info": {
   "codemirror_mode": {
    "name": "ipython",
    "version": 3
   },
   "file_extension": ".py",
   "mimetype": "text/x-python",
   "name": "python",
   "nbconvert_exporter": "python",
   "pygments_lexer": "ipython3",
   "version": "3.10.8"
  },
  "orig_nbformat": 4,
  "vscode": {
   "interpreter": {
    "hash": "497308d7094f9d5e431c5220417c93e5aa11fe56289c7522ea564319ffbbc76c"
   }
  }
 },
 "nbformat": 4,
 "nbformat_minor": 2
}
